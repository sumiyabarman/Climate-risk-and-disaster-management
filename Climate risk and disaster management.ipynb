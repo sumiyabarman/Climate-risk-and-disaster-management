{
  "nbformat": 4,
  "nbformat_minor": 0,
  "metadata": {
    "colab": {
      "provenance": []
    },
    "kernelspec": {
      "name": "python3",
      "display_name": "Python 3"
    },
    "language_info": {
      "name": "python"
    }
  },
  "cells": [
    {
      "cell_type": "markdown",
      "source": [
        "Project title climate risk and disaster management\n",
        "\n",
        "Project statement : Rainfall variability in India significantly impacts agriculture, water resources, and disaster management. However, unpredictable rainfall patterns make it difficult for farmers and policymakers to plan effectively. This project aims to analyze historical rainfall data (1901–2015) and build a machine learning model to predict future rainfall trends, supporting better planning and risk management.\n",
        "\n",
        "Description : Rainfall plays a crucial role in India’s economy, as a large portion of agriculture and water supply depends on the monsoon. Irregular and unpredictable rainfall patterns often lead to challenges such as droughts, floods, and reduced crop productivity, affecting millions of people. By studying historical rainfall data from 1901 to 2015, this project focuses on identifying long-term trends and predicting future rainfall patterns using machine learning techniques. The insights gained can help in better planning for agriculture, water resource management, and disaster preparedness."
      ],
      "metadata": {
        "id": "K86wFe_-WOCS"
      }
    },
    {
      "cell_type": "code",
      "source": [
        "import pandas as pd\n",
        "import numpy as np\n",
        "import matplotlib.pyplot as plt\n",
        "from sklearn.model_selection import train_test_split\n",
        "from sklearn.linear_model import LinearRegression\n",
        "from sklearn.metrics import mean_squared_error, r2_score\n"
      ],
      "metadata": {
        "id": "LQ6dKdj_U1NT"
      },
      "execution_count": 6,
      "outputs": []
    },
    {
      "cell_type": "code",
      "source": [
        "# Load your dataset (uploaded to Colab)\n",
        "df = pd.read_csv(\"/content/rainfall in india 1901-2015.csv\")\n",
        "\n",
        "# Show first few rows\n",
        "print(df.head())\n",
        "print(\"\\nColumns in dataset:\", df.columns)\n"
      ],
      "metadata": {
        "colab": {
          "base_uri": "https://localhost:8080/"
        },
        "id": "rodrI8UsVpiv",
        "outputId": "0bf06d03-b1e8-4a3d-90d1-b95dc9e8f258"
      },
      "execution_count": 7,
      "outputs": [
        {
          "output_type": "stream",
          "name": "stdout",
          "text": [
            "                 SUBDIVISION  YEAR   JAN    FEB   MAR    APR    MAY    JUN  \\\n",
            "0  ANDAMAN & NICOBAR ISLANDS  1901  49.2   87.1  29.2    2.3  528.8  517.5   \n",
            "1  ANDAMAN & NICOBAR ISLANDS  1902   0.0  159.8  12.2    0.0  446.1  537.1   \n",
            "2  ANDAMAN & NICOBAR ISLANDS  1903  12.7  144.0   0.0    1.0  235.1  479.9   \n",
            "3  ANDAMAN & NICOBAR ISLANDS  1904   9.4   14.7   0.0  202.4  304.5  495.1   \n",
            "4  ANDAMAN & NICOBAR ISLANDS  1905   1.3    0.0   3.3   26.9  279.5  628.7   \n",
            "\n",
            "     JUL    AUG    SEP    OCT    NOV    DEC  ANNUAL  Jan-Feb  Mar-May  \\\n",
            "0  365.1  481.1  332.6  388.5  558.2   33.6  3373.2    136.3    560.3   \n",
            "1  228.9  753.7  666.2  197.2  359.0  160.5  3520.7    159.8    458.3   \n",
            "2  728.4  326.7  339.0  181.2  284.4  225.0  2957.4    156.7    236.1   \n",
            "3  502.0  160.1  820.4  222.2  308.7   40.1  3079.6     24.1    506.9   \n",
            "4  368.7  330.5  297.0  260.7   25.4  344.7  2566.7      1.3    309.7   \n",
            "\n",
            "   Jun-Sep  Oct-Dec  \n",
            "0   1696.3    980.3  \n",
            "1   2185.9    716.7  \n",
            "2   1874.0    690.6  \n",
            "3   1977.6    571.0  \n",
            "4   1624.9    630.8  \n",
            "\n",
            "Columns in dataset: Index(['SUBDIVISION', 'YEAR', 'JAN', 'FEB', 'MAR', 'APR', 'MAY', 'JUN', 'JUL',\n",
            "       'AUG', 'SEP', 'OCT', 'NOV', 'DEC', 'ANNUAL', 'Jan-Feb', 'Mar-May',\n",
            "       'Jun-Sep', 'Oct-Dec'],\n",
            "      dtype='object')\n"
          ]
        }
      ]
    },
    {
      "cell_type": "code",
      "source": [
        "# Keep only Year and Annual Rainfall\n",
        "data = df[[\"YEAR\", \"ANNUAL\"]]\n",
        "\n",
        "# Drop missing values if any\n",
        "data = data.dropna()\n",
        "\n",
        "print(data.head())\n"
      ],
      "metadata": {
        "colab": {
          "base_uri": "https://localhost:8080/"
        },
        "id": "-vHaloPyVxqm",
        "outputId": "fa573e7f-414c-4d02-a789-5b0b6e912b5e"
      },
      "execution_count": 8,
      "outputs": [
        {
          "output_type": "stream",
          "name": "stdout",
          "text": [
            "   YEAR  ANNUAL\n",
            "0  1901  3373.2\n",
            "1  1902  3520.7\n",
            "2  1903  2957.4\n",
            "3  1904  3079.6\n",
            "4  1905  2566.7\n"
          ]
        }
      ]
    }
  ]
}